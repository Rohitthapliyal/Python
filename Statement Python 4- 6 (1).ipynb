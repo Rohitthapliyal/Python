{
 "cells": [
  {
   "cell_type": "code",
   "execution_count": 12,
   "metadata": {},
   "outputs": [
    {
     "name": "stdout",
     "output_type": "stream",
     "text": [
      "Make a call\n"
     ]
    }
   ],
   "source": [
    "price = 40\n",
    "\n",
    "if price == 50:\n",
    "    print('Buy 5Kg of Rice')\n",
    "elif price == 48:\n",
    "    print('Buy 6Kg of Rice')\n",
    "elif price == 40:\n",
    "    print('Make a call')\n",
    "else:\n",
    "    print('Move to the next Shop')"
   ]
  },
  {
   "cell_type": "code",
   "execution_count": 15,
   "metadata": {},
   "outputs": [
    {
     "name": "stdout",
     "output_type": "stream",
     "text": [
      "Try again\n"
     ]
    }
   ],
   "source": [
    "if False:\n",
    "    print('Work')\n",
    "else:\n",
    "    print('Try again')"
   ]
  },
  {
   "cell_type": "code",
   "execution_count": 16,
   "metadata": {},
   "outputs": [
    {
     "name": "stdout",
     "output_type": "stream",
     "text": [
      "What is the Price of 1kg Rice ? 52\n"
     ]
    },
    {
     "data": {
      "text/plain": [
       "'52'"
      ]
     },
     "execution_count": 16,
     "metadata": {},
     "output_type": "execute_result"
    }
   ],
   "source": [
    "input('What is the Price of 1kg Rice ? ')"
   ]
  },
  {
   "cell_type": "code",
   "execution_count": 17,
   "metadata": {},
   "outputs": [
    {
     "name": "stdout",
     "output_type": "stream",
     "text": [
      "What is the Price of 1kg Rice ? 52\n"
     ]
    },
    {
     "data": {
      "text/plain": [
       "52"
      ]
     },
     "execution_count": 17,
     "metadata": {},
     "output_type": "execute_result"
    }
   ],
   "source": [
    "int(input('What is the Price of 1kg Rice ? '))"
   ]
  },
  {
   "cell_type": "code",
   "execution_count": 22,
   "metadata": {},
   "outputs": [
    {
     "name": "stdout",
     "output_type": "stream",
     "text": [
      "What is the Price of 1kg Rice ? 44\n",
      "Move to the next Shop\n"
     ]
    }
   ],
   "source": [
    "price = int(input('What is the Price of 1kg Rice ? '))\n",
    "\n",
    "if price == 50:\n",
    "    print('Buy 5Kg of Rice')\n",
    "elif price == 48:\n",
    "    print('Buy 6Kg of Rice')\n",
    "elif price == 40:\n",
    "    print('Make a call')\n",
    "else:\n",
    "    print('Move to the next Shop')"
   ]
  },
  {
   "cell_type": "code",
   "execution_count": 13,
   "metadata": {},
   "outputs": [
    {
     "name": "stdout",
     "output_type": "stream",
     "text": [
      "Enter an Location  : - MARKET\n",
      "Bring some food\n"
     ]
    }
   ],
   "source": [
    "Loc = input('Enter an Location  : - ').lower()\n",
    "if Loc=='store':\n",
    "    print('Bring some groceries')\n",
    "elif Loc=='market':\n",
    "    print('Bring some food')\n",
    "elif Loc=='office':\n",
    "    print('come home soon')\n",
    "else :\n",
    "    print('see you soon')"
   ]
  },
  {
   "cell_type": "code",
   "execution_count": 16,
   "metadata": {},
   "outputs": [
    {
     "name": "stdout",
     "output_type": "stream",
     "text": [
      "Enter your number  :  89\n",
      "Number is positive\n"
     ]
    }
   ],
   "source": [
    "pn = int(input('Enter your number  :  '))\n",
    "if pn>0:\n",
    "    print('Number is positive')\n",
    "elif pn==0:\n",
    "    print('The number is netural')\n",
    "else:\n",
    "    print('number is negetive')"
   ]
  },
  {
   "cell_type": "code",
   "execution_count": 27,
   "metadata": {},
   "outputs": [
    {
     "name": "stdout",
     "output_type": "stream",
     "text": [
      "352 is greatest\n"
     ]
    }
   ],
   "source": [
    "a = 352\n",
    "b = 289\n",
    "c = 195\n",
    "\n",
    "if a > b:\n",
    "    if a > c:\n",
    "        print('{} is greatest'.format(a))\n",
    "    else:\n",
    "        print('{} is greatest'.format(c))\n",
    "else:\n",
    "    if b > c:\n",
    "        print('{} is greatest'.format(b))\n",
    "    else:\n",
    "        print('{} is greatest'.format(c))"
   ]
  },
  {
   "cell_type": "code",
   "execution_count": 31,
   "metadata": {},
   "outputs": [
    {
     "name": "stdout",
     "output_type": "stream",
     "text": [
      "H\n",
      "e\n",
      "l\n",
      "l\n",
      "o\n"
     ]
    }
   ],
   "source": [
    "for i in 'Hello':\n",
    "    print(i)"
   ]
  },
  {
   "cell_type": "code",
   "execution_count": 32,
   "metadata": {},
   "outputs": [
    {
     "name": "stdout",
     "output_type": "stream",
     "text": [
      "52\n",
      "45\n",
      "56\n",
      "75\n"
     ]
    }
   ],
   "source": [
    "for i in [52,45,56,75]:\n",
    "    print(i)"
   ]
  },
  {
   "cell_type": "code",
   "execution_count": 38,
   "metadata": {},
   "outputs": [
    {
     "name": "stdout",
     "output_type": "stream",
     "text": [
      "52 is even\n",
      "45  is odd\n",
      "56 is even\n",
      "75  is odd\n"
     ]
    }
   ],
   "source": [
    "for i in [52,45,56,75]:\n",
    "    if i % 2 == 0:\n",
    "        print(i, 'is even')\n",
    "    else:\n",
    "        print(i,' is odd')"
   ]
  },
  {
   "cell_type": "code",
   "execution_count": 36,
   "metadata": {},
   "outputs": [
    {
     "data": {
      "text/plain": [
       "0"
      ]
     },
     "execution_count": 36,
     "metadata": {},
     "output_type": "execute_result"
    }
   ],
   "source": [
    "50%2"
   ]
  },
  {
   "cell_type": "code",
   "execution_count": null,
   "metadata": {},
   "outputs": [],
   "source": [
    "tes = [14,15,25,36,856]"
   ]
  },
  {
   "cell_type": "code",
   "execution_count": 39,
   "metadata": {},
   "outputs": [
    {
     "name": "stdout",
     "output_type": "stream",
     "text": [
      "1\n",
      "2\n",
      "3\n"
     ]
    }
   ],
   "source": [
    "for i in (1,2,3):\n",
    "    print(i)"
   ]
  },
  {
   "cell_type": "code",
   "execution_count": 40,
   "metadata": {},
   "outputs": [
    {
     "name": "stdout",
     "output_type": "stream",
     "text": [
      "Key\n",
      "K2\n",
      "K3\n"
     ]
    }
   ],
   "source": [
    "for i in {'Key':52,'K2':52,'K3':52}:\n",
    "    print(i)"
   ]
  },
  {
   "cell_type": "code",
   "execution_count": 41,
   "metadata": {},
   "outputs": [
    {
     "name": "stdout",
     "output_type": "stream",
     "text": [
      "52\n",
      "52\n",
      "52\n"
     ]
    }
   ],
   "source": [
    "for i in {'Key':52,'K2':52,'K3':52}.values():\n",
    "    print(i)"
   ]
  },
  {
   "cell_type": "code",
   "execution_count": 42,
   "metadata": {},
   "outputs": [
    {
     "name": "stdout",
     "output_type": "stream",
     "text": [
      "('Key', 52)\n",
      "('K2', 52)\n",
      "('K3', 52)\n"
     ]
    }
   ],
   "source": [
    "for i in {'Key':52,'K2':52,'K3':52}.items():\n",
    "    print(i)"
   ]
  },
  {
   "cell_type": "code",
   "execution_count": 43,
   "metadata": {},
   "outputs": [],
   "source": [
    "tup = (45,90)"
   ]
  },
  {
   "cell_type": "code",
   "execution_count": 44,
   "metadata": {},
   "outputs": [],
   "source": [
    "a,b = tup"
   ]
  },
  {
   "cell_type": "code",
   "execution_count": 45,
   "metadata": {},
   "outputs": [
    {
     "name": "stdout",
     "output_type": "stream",
     "text": [
      "45\n"
     ]
    }
   ],
   "source": [
    "print(a)"
   ]
  },
  {
   "cell_type": "code",
   "execution_count": 46,
   "metadata": {},
   "outputs": [
    {
     "name": "stdout",
     "output_type": "stream",
     "text": [
      "90\n"
     ]
    }
   ],
   "source": [
    "print(b)"
   ]
  },
  {
   "cell_type": "code",
   "execution_count": 47,
   "metadata": {},
   "outputs": [
    {
     "name": "stdout",
     "output_type": "stream",
     "text": [
      "Key 52\n",
      "K2 52\n",
      "K3 52\n"
     ]
    }
   ],
   "source": [
    "for i,j in {'Key':52,'K2':52,'K3':52}.items():\n",
    "    print(i,j)"
   ]
  },
  {
   "cell_type": "code",
   "execution_count": 48,
   "metadata": {},
   "outputs": [],
   "source": [
    "ls = [(12,13),(34,67),(85,45)]"
   ]
  },
  {
   "cell_type": "code",
   "execution_count": 49,
   "metadata": {},
   "outputs": [
    {
     "name": "stdout",
     "output_type": "stream",
     "text": [
      "(12, 13)\n",
      "(34, 67)\n",
      "(85, 45)\n"
     ]
    }
   ],
   "source": [
    "for i in ls:\n",
    "    print(i)"
   ]
  },
  {
   "cell_type": "code",
   "execution_count": 51,
   "metadata": {},
   "outputs": [
    {
     "name": "stdout",
     "output_type": "stream",
     "text": [
      "12 13\n",
      "34 67\n",
      "85 45\n"
     ]
    }
   ],
   "source": [
    "for i in ls:\n",
    "    print(i[0],i[1])"
   ]
  },
  {
   "cell_type": "code",
   "execution_count": 52,
   "metadata": {},
   "outputs": [
    {
     "name": "stdout",
     "output_type": "stream",
     "text": [
      "12 13\n",
      "34 67\n",
      "85 45\n"
     ]
    }
   ],
   "source": [
    "for i,j in ls:\n",
    "    print(i,j)"
   ]
  },
  {
   "cell_type": "code",
   "execution_count": 14,
   "metadata": {},
   "outputs": [],
   "source": [
    "ls = [10,20,30]\n",
    "ls_2  = [1,2,3]\n",
    "new = [10,20,20,30,30,30]"
   ]
  },
  {
   "cell_type": "code",
   "execution_count": 25,
   "metadata": {},
   "outputs": [],
   "source": [
    "a = [10,30,45]\n",
    "b = [85,56,45]"
   ]
  },
  {
   "cell_type": "code",
   "execution_count": 28,
   "metadata": {},
   "outputs": [],
   "source": [
    "a = a+b"
   ]
  },
  {
   "cell_type": "code",
   "execution_count": 29,
   "metadata": {},
   "outputs": [
    {
     "name": "stdout",
     "output_type": "stream",
     "text": [
      "[10, 30, 45, 85, 56, 45]\n"
     ]
    }
   ],
   "source": [
    "print(a)"
   ]
  },
  {
   "cell_type": "code",
   "execution_count": 31,
   "metadata": {},
   "outputs": [
    {
     "name": "stdout",
     "output_type": "stream",
     "text": [
      "[10, 10, 10, 20, 20, 30]\n"
     ]
    }
   ],
   "source": [
    "ls_1 = [10,20,30]\n",
    "ls_2 = [3,2,1]\n",
    "a = ls_2[0]*[ls_1[0]]\n",
    "b = ls_2[1]*[ls_1[1]]\n",
    "c = ls_2[2]*[ls_1[2]]\n",
    "# a.extend(b)\n",
    "# a.extend(c)\n",
    "new = a+b+c\n",
    "print(new)\n"
   ]
  },
  {
   "cell_type": "code",
   "execution_count": 2,
   "metadata": {},
   "outputs": [
    {
     "name": "stdout",
     "output_type": "stream",
     "text": [
      "How's Marks you want to check : 3\n",
      "largest nubmer is : 70\n",
      "Average Marks of 3 is 53\n"
     ]
    }
   ],
   "source": [
    "maths = [10,20,30]\n",
    "sci   = [50,60,70]\n",
    "eng   = [80,45,60]\n",
    "student = input(\"How's Marks you want to check : \")\n",
    "loc = int(student[-1]) - 1\n",
    "\n",
    "a = maths[loc]\n",
    "b = sci[loc]\n",
    "c = eng[loc]\n",
    "\n",
    "if a>b and a>c:\n",
    "    print('largest number is :',a)\n",
    "elif b>c and b>a: \n",
    "    print('largest nubmer is :',b)\n",
    "else:\n",
    "    print('largest number is :',c)\n",
    "\n",
    "    \n",
    "avg = int((a+b+c)/3)\n",
    "print('Average Marks of {} is {}'.format(student,avg))\n"
   ]
  },
  {
   "cell_type": "code",
   "execution_count": 37,
   "metadata": {},
   "outputs": [],
   "source": [
    "loc = int(student[-1]) - 1"
   ]
  },
  {
   "cell_type": "code",
   "execution_count": 39,
   "metadata": {},
   "outputs": [],
   "source": [
    "m = maths[loc]\n",
    "s = sci[loc]\n",
    "e = eng[loc]"
   ]
  },
  {
   "cell_type": "code",
   "execution_count": 40,
   "metadata": {},
   "outputs": [
    {
     "name": "stdout",
     "output_type": "stream",
     "text": [
      "10 50 80\n"
     ]
    }
   ],
   "source": [
    "print(m,s,e)"
   ]
  },
  {
   "cell_type": "code",
   "execution_count": 51,
   "metadata": {},
   "outputs": [
    {
     "name": "stdout",
     "output_type": "stream",
     "text": [
      "in science : 50\n",
      "avg of marks 36\n"
     ]
    }
   ],
   "source": [
    "math =     [10,20,30]\n",
    "science =  [30,40,50]\n",
    "english =  [50,70,30]\n",
    "\n",
    "\n",
    "std_1m = math[2]\n",
    "std_1s = science[2]\n",
    "std_1e = english[2]\n",
    "if std_1m >std_1s and std_1m>std_1e:\n",
    "    \n",
    "    print('in math :',std_1m)\n",
    "elif std_1s>std_1e and std_1s>std_1m:\n",
    "    print('in science :',std_1s)\n",
    "else:\n",
    "    print('in english :',std_1e)\n",
    "avg = (std_1m+std_1s+std_1e)//3\n",
    "print(\"avg of marks\",avg)\n"
   ]
  },
  {
   "cell_type": "code",
   "execution_count": 2,
   "metadata": {},
   "outputs": [
    {
     "data": {
      "text/plain": [
       "[0, 1, 2, 3, 4, 5, 6, 7, 8, 9, 10, 11, 12, 13, 14, 15, 16, 17, 18, 19]"
      ]
     },
     "execution_count": 2,
     "metadata": {},
     "output_type": "execute_result"
    }
   ],
   "source": [
    "list(range(20))"
   ]
  },
  {
   "cell_type": "code",
   "execution_count": 4,
   "metadata": {},
   "outputs": [
    {
     "data": {
      "text/plain": [
       "19"
      ]
     },
     "execution_count": 4,
     "metadata": {},
     "output_type": "execute_result"
    }
   ],
   "source": [
    "range(20)[19]"
   ]
  },
  {
   "cell_type": "code",
   "execution_count": 5,
   "metadata": {},
   "outputs": [
    {
     "name": "stdout",
     "output_type": "stream",
     "text": [
      "0\n",
      "1\n",
      "2\n",
      "3\n",
      "4\n",
      "5\n",
      "6\n",
      "7\n",
      "8\n",
      "9\n"
     ]
    }
   ],
   "source": [
    "for i in range(10):\n",
    "    print(i)"
   ]
  },
  {
   "cell_type": "code",
   "execution_count": 6,
   "metadata": {},
   "outputs": [
    {
     "name": "stdout",
     "output_type": "stream",
     "text": [
      "0\n",
      "2\n",
      "4\n",
      "6\n",
      "8\n",
      "10\n"
     ]
    }
   ],
   "source": [
    "for i in range(0,11,2):\n",
    "    print(i)"
   ]
  },
  {
   "cell_type": "code",
   "execution_count": 7,
   "metadata": {},
   "outputs": [
    {
     "name": "stdout",
     "output_type": "stream",
     "text": [
      "0\n",
      "3\n",
      "6\n",
      "9\n",
      "12\n"
     ]
    }
   ],
   "source": [
    "for i in range(0,13,3):\n",
    "    print(i)"
   ]
  },
  {
   "cell_type": "code",
   "execution_count": 8,
   "metadata": {},
   "outputs": [],
   "source": [
    "alp = ['Nlp','Word2vec','Logistics','Ml']"
   ]
  },
  {
   "cell_type": "code",
   "execution_count": 13,
   "metadata": {},
   "outputs": [
    {
     "name": "stdout",
     "output_type": "stream",
     "text": [
      "Nlp is at 0\n",
      "Word2vec is at 1\n",
      "Logistics is at 2\n",
      "Ml is at 3\n"
     ]
    }
   ],
   "source": [
    "for i in range(len(alp)):\n",
    "    print('{} is at {}'.format(alp[i],i))"
   ]
  },
  {
   "cell_type": "code",
   "execution_count": 10,
   "metadata": {},
   "outputs": [
    {
     "data": {
      "text/plain": [
       "4"
      ]
     },
     "execution_count": 10,
     "metadata": {},
     "output_type": "execute_result"
    }
   ],
   "source": [
    "len(alp)"
   ]
  },
  {
   "cell_type": "code",
   "execution_count": 14,
   "metadata": {},
   "outputs": [
    {
     "name": "stdout",
     "output_type": "stream",
     "text": [
      "Sum of the elements of the list is =  210\n",
      "Average of the elements of the list =  35.0\n"
     ]
    }
   ],
   "source": [
    "num = [10,20,30,40,50,60]\n",
    "\n",
    "add = 0\n",
    "\n",
    "for i in num:\n",
    "    add += i\n",
    "print('Sum of the elements of the list is = ',add)\n",
    "print('Average of the elements of the list = ', add/len(num))"
   ]
  },
  {
   "cell_type": "code",
   "execution_count": 21,
   "metadata": {},
   "outputs": [
    {
     "name": "stdout",
     "output_type": "stream",
     "text": [
      "How many side of polygon you want = 4\n",
      "Enter side 1 = 10\n",
      "Enter side 2 = 20\n",
      "Enter side 3 = 10\n",
      "Enter side 4 = 20\n",
      "Perimeter of Polygon =  60\n"
     ]
    }
   ],
   "source": [
    "sides = int(input('How many side of polygon you want = '))\n",
    "num = []\n",
    "for i in range(1,sides+1):\n",
    "    s = int(input('Enter side {} = '.format(i)))\n",
    "    num.append(s)\n",
    "# print(num)\n",
    "add = 0\n",
    "\n",
    "for i in num:\n",
    "    add += i\n",
    "print('Perimeter of Polygon = ',add)"
   ]
  },
  {
   "cell_type": "code",
   "execution_count": 28,
   "metadata": {},
   "outputs": [],
   "source": [
    "# mat = [[4,2,3],[1,3,5],[3,5,6]]\n",
    "\n",
    "# s = True\n",
    "\n",
    "# for i in range(0,3):\n",
    "#     for j in range(0,3):\n",
    "#         if mat[i][j] != mat[j][i]:\n",
    "#             s = False\n",
    "# print(s)"
   ]
  },
  {
   "cell_type": "code",
   "execution_count": 40,
   "metadata": {},
   "outputs": [
    {
     "name": "stdout",
     "output_type": "stream",
     "text": [
      "Enter Player 1 = Virat\n",
      "Enter Player 2 = Rahul\n",
      "Enter Player 3 = Raman\n",
      "Enter Virat's score = 458\n",
      "Enter Rahul's score = 896\n",
      "Enter Raman's score = 968\n",
      "Enter How many matches Virat' Played  = 100\n",
      "Enter How many matches Rahul' Played  = 100\n",
      "Enter How many matches Raman' Played  = 100\n",
      "[4.58, 8.96, 9.68]\n"
     ]
    }
   ],
   "source": [
    "player = []\n",
    "score = []\n",
    "match = []\n",
    "\n",
    "for i in range(3):\n",
    "    pl = input('Enter Player {} = '.format(i+1))\n",
    "    player.append(pl)\n",
    "# print(player)\n",
    "\n",
    "for i in range(3):\n",
    "    sc = int(input(\"Enter {}'s score = \".format(player[i])))\n",
    "    score.append(sc)\n",
    "# print(score)\n",
    "\n",
    "for i in range(3):\n",
    "    mt = int(input(\"Enter How many matches {}' Played  = \".format(player[i])))\n",
    "    match.append(mt)\n",
    "# print(match)\n",
    "\n",
    "av =[]\n",
    "for i in range(3):\n",
    "    av.append(score[i]/match[i])\n",
    "print(av)"
   ]
  },
  {
   "cell_type": "code",
   "execution_count": 39,
   "metadata": {},
   "outputs": [
    {
     "data": {
      "text/plain": [
       "[1.45, 4.56, 78.56]"
      ]
     },
     "execution_count": 39,
     "metadata": {},
     "output_type": "execute_result"
    }
   ],
   "source": [
    "av =[]\n",
    "for i in range(3):\n",
    "    av.append(score[i]/match[i])\n",
    "av"
   ]
  },
  {
   "cell_type": "code",
   "execution_count": null,
   "metadata": {},
   "outputs": [],
   "source": [
    "a = [2,3,1,45,15]\n",
    "\n",
    "out = [1, 2, 3, 15, 45]"
   ]
  },
  {
   "cell_type": "code",
   "execution_count": 43,
   "metadata": {},
   "outputs": [
    {
     "name": "stdout",
     "output_type": "stream",
     "text": [
      "[1, 2, 3, 15, 45]\n"
     ]
    }
   ],
   "source": [
    "a = [2,3,1,45,15]\n",
    "\n",
    "for i in range(len(a)):\n",
    "    for j in range(i+1,len(a)):\n",
    "#         print(a[i], a[j])\n",
    "        if a[i] > a[j]:\n",
    "            a[i],a[j] = a[j],a[i]\n",
    "print(a)"
   ]
  },
  {
   "cell_type": "code",
   "execution_count": 45,
   "metadata": {},
   "outputs": [],
   "source": [
    "# menu = {'Burger':100,'Spring Roll':120}\n",
    "\n",
    "# user = 'Burger'\n",
    "\n",
    "# price = 100\n",
    "\n",
    "# total "
   ]
  },
  {
   "cell_type": "code",
   "execution_count": 47,
   "metadata": {},
   "outputs": [
    {
     "name": "stdout",
     "output_type": "stream",
     "text": [
      "How many items are in your menu : 3\n",
      "Enter The dishIdel\n",
      "Enter the price of Idel45\n",
      "Enter The dishSambar\n",
      "Enter the price of Sambar50\n",
      "Enter The dishDossa\n",
      "Enter the price of Dossa65\n",
      "{'Idel': '45', 'Sambar': '50', 'Dossa': '65'}\n"
     ]
    }
   ],
   "source": [
    "it = int(input('How many items are in your menu : '))\n",
    "menu = {}\n",
    "for i in range(it):\n",
    "    dish = input('Enter The dish : ')\n",
    "    price = input('Enter the price of {}:  '.format(dish))\n",
    "    menu[dish] = price\n",
    " print(menu)4"
   ]
  },
  {
   "cell_type": "code",
   "execution_count": 2,
   "metadata": {},
   "outputs": [
    {
     "name": "stdout",
     "output_type": "stream",
     "text": [
      "LIST OF EVEN NUMBERS : [0, 2, 4, 6, 8, 10, 12, 14, 16, 18, 20, 22, 24, 26, 28, 30, 32, 34, 36, 38, 40, 42, 44, 46, 48, 50, 52, 54, 56, 58, 60, 62, 64, 66, 68, 70, 72, 74, 76, 78, 80, 82, 84, 86, 88, 90, 92, 94, 96, 98, 100]\n",
      "LIST OF ODD NUMBERS  : [1, 3, 5, 7, 9, 11, 13, 15, 17, 19, 21, 23, 25, 27, 29, 31, 33, 35, 37, 39, 41, 43, 45, 47, 49, 51, 53, 55, 57, 59, 61, 63, 65, 67, 69, 71, 73, 75, 77, 79, 81, 83, 85, 87, 89, 91, 93, 95, 97, 99]\n"
     ]
    }
   ],
   "source": [
    "even = []\n",
    "o dd =  []\n",
    "\n",
    "for i in range(0,101):\n",
    "    if i % 2==0:\n",
    "       # print(i)\n",
    "       even.append(i)\n",
    "    else:\n",
    "        odd.append(i)\n",
    "    \n",
    "print(\"LIST OF EVEN NUMBERS :\",even)\n",
    "print(\"LIST OF ODD NUMBERS  :\",odd)\n"
   ]
  },
  {
   "cell_type": "code",
   "execution_count": 3,
   "metadata": {},
   "outputs": [
    {
     "name": "stdout",
     "output_type": "stream",
     "text": [
      "How many people are want to enter : 3\n",
      "Enter the name : Ram\n",
      "Enter ram has Mask type Yes or No : Yes\n",
      "\n",
      "Allowed ram\n",
      "Because ram has mask and is safe\n",
      "\n",
      "Enter the name : manoj\n",
      "Enter manoj has Mask type Yes or No : No\n",
      "\n",
      "Not Allowed manoj\n",
      "manoj has no mask and can be infected by virus\n",
      "\n",
      "Enter the name : Shivam\n",
      "Enter shivam has Mask type Yes or No : Yes\n",
      "\n",
      "Allowed shivam\n",
      "Because shivam has mask and is safe\n",
      "\n"
     ]
    }
   ],
   "source": [
    "n = int(input('How many people are want to enter : '))\n",
    "# print('type only integer : ')\n",
    "st=[]\n",
    "ma=[]\n",
    "for i in range(n):\n",
    "    name = input('Enter the name : ').lower()\n",
    "    mask = input('Enter {} has Mask type Yes or No : '.format(name)).lower()\n",
    "    st.append(name)\n",
    "    ma.append(mask)\n",
    "    if mask=='yes':\n",
    "        print('\\nAllowed', name)\n",
    "        print('Because {} has mask and is safe\\n'.format(name))\n",
    "    elif mask=='no':\n",
    "        print('\\nNot Allowed', name)\n",
    "        print('{} has no mask and can be infected by virus\\n'.format(name))\n",
    "    else:\n",
    "        print('Invalid value ?')\n",
    "        break\n"
   ]
  },
  {
   "cell_type": "code",
   "execution_count": 4,
   "metadata": {},
   "outputs": [
    {
     "name": "stdout",
     "output_type": "stream",
     "text": [
      "name of the personshivam\n",
      "not allowed\n"
     ]
    }
   ],
   "source": [
    "name = {'shivam':{'mask':'no mask'}, 'ram':{'mask':'yes mask'}, 'chintu':{'mask':'no mask'}}\n",
    "np = str(input('name of the person'))\n",
    "masks = name[np]['mask']\n",
    "if masks == 'yes mask':\n",
    "    print('allowed') \n",
    "else:\n",
    "    print('not allowed')"
   ]
  },
  {
   "cell_type": "code",
   "execution_count": 13,
   "metadata": {},
   "outputs": [
    {
     "name": "stdout",
     "output_type": "stream",
     "text": [
      "x is currently:  0\n",
      " x is still less than 10, adding 1 to x\n",
      "x is currently:  1\n",
      " x is still less than 10, adding 1 to x\n",
      "x is currently:  2\n",
      " x is still less than 10, adding 1 to x\n",
      "x is currently:  3\n",
      " x is still less than 10, adding 1 to x\n",
      "x is currently:  4\n",
      " x is still less than 10, adding 1 to x\n",
      "x is currently:  5\n",
      " x is still less than 10, adding 1 to x\n",
      "x is currently:  6\n",
      " x is still less than 10, adding 1 to x\n",
      "x is currently:  7\n",
      " x is still less than 10, adding 1 to x\n",
      "x is currently:  8\n",
      " x is still less than 10, adding 1 to x\n",
      "x is currently:  9\n",
      " x is still less than 10, adding 1 to x\n"
     ]
    }
   ],
   "source": [
    "x = 0\n",
    "\n",
    "while x < 10:\n",
    "    print('x is currently: ',x)\n",
    "    print(' x is still less than 10, adding 1 to x')\n",
    "    x+=1"
   ]
  },
  {
   "cell_type": "code",
   "execution_count": 7,
   "metadata": {},
   "outputs": [
    {
     "name": "stdout",
     "output_type": "stream",
     "text": [
      "Hello\n",
      "Hello\n",
      "Hello\n",
      "Hello\n",
      "Hello\n",
      "Hello\n",
      "Hello\n",
      "Hello\n",
      "Hello\n",
      "Hello\n"
     ]
    }
   ],
   "source": [
    "for i in range(10):\n",
    "    print('Hello')"
   ]
  },
  {
   "cell_type": "code",
   "execution_count": 12,
   "metadata": {},
   "outputs": [
    {
     "name": "stdout",
     "output_type": "stream",
     "text": [
      "Hello\n",
      "0\n",
      "Hello\n",
      "1\n",
      "Hello\n",
      "2\n",
      "Hello\n",
      "3\n",
      "Hello\n",
      "4\n",
      "Hello\n",
      "5\n",
      "Hello\n",
      "6\n",
      "Hello\n",
      "7\n",
      "Hello\n",
      "8\n",
      "Hello\n",
      "9\n",
      "Out of the loop 10\n"
     ]
    }
   ],
   "source": [
    "x = 0\n",
    "\n",
    "while x < 10:\n",
    "    print('Hello')\n",
    "    print(x)\n",
    "    x  = x +1\n",
    "print('Out of the loop',x)"
   ]
  },
  {
   "cell_type": "code",
   "execution_count": 10,
   "metadata": {},
   "outputs": [
    {
     "data": {
      "text/plain": [
       "False"
      ]
     },
     "execution_count": 10,
     "metadata": {},
     "output_type": "execute_result"
    }
   ],
   "source": [
    "10 < 10"
   ]
  },
  {
   "cell_type": "code",
   "execution_count": 16,
   "metadata": {},
   "outputs": [
    {
     "name": "stdout",
     "output_type": "stream",
     "text": [
      "1\n",
      "Hello\n",
      "2\n",
      "Hello\n",
      "3\n",
      "Hello\n",
      "4\n",
      "Hello\n",
      "5\n",
      "Hey\n",
      "6\n",
      "Hello\n",
      "7\n",
      "Hi\n",
      "8\n",
      "Hello\n",
      "9\n",
      "Hello\n",
      "10\n",
      "Hello\n"
     ]
    }
   ],
   "source": [
    "x = 0\n",
    "while x < 10:\n",
    "    x +=1\n",
    "    print(x)\n",
    "    if x == 5:\n",
    "        print('Hey')\n",
    "    elif x == 7:\n",
    "        print('Hi')\n",
    "    else:\n",
    "        print('Hello')\n"
   ]
  },
  {
   "cell_type": "code",
   "execution_count": 19,
   "metadata": {},
   "outputs": [
    {
     "name": "stdout",
     "output_type": "stream",
     "text": [
      "10\n",
      "20\n",
      "Skip\n",
      "40\n",
      "50\n",
      "60\n"
     ]
    }
   ],
   "source": [
    "num = [10,20,30,40,50,60]\n",
    "\n",
    "for i in num:\n",
    "    if i == 30:\n",
    "        print('Skip')\n",
    "    else:\n",
    "        print(i)"
   ]
  },
  {
   "cell_type": "code",
   "execution_count": 20,
   "metadata": {},
   "outputs": [
    {
     "name": "stdout",
     "output_type": "stream",
     "text": [
      "10\n",
      "20\n",
      "40\n",
      "50\n",
      "60\n"
     ]
    }
   ],
   "source": [
    "num = [10,20,30,40,50,60]\n",
    "\n",
    "for i in num:\n",
    "    if i == 30:\n",
    "        continue\n",
    "    else:\n",
    "        print(i)"
   ]
  },
  {
   "cell_type": "code",
   "execution_count": 8,
   "metadata": {},
   "outputs": [
    {
     "name": "stdout",
     "output_type": "stream",
     "text": [
      "10\n",
      "20\n",
      "30\n"
     ]
    }
   ],
   "source": [
    "num = [10,20,30,40,50,60]\n",
    "\n",
    "\n",
    "for i in num:\n",
    "    if i == 40:\n",
    "        break\n",
    "    else:\n",
    "        print(i)"
   ]
  },
  {
   "cell_type": "code",
   "execution_count": 9,
   "metadata": {},
   "outputs": [],
   "source": [
    "num = [10,20,30,40,50,60]\n",
    "\n",
    "for i in num:\n",
    "    pass"
   ]
  },
  {
   "cell_type": "code",
   "execution_count": 27,
   "metadata": {},
   "outputs": [
    {
     "name": "stdout",
     "output_type": "stream",
     "text": [
      "enter a number : 5\n",
      "factorial of  5  is  120\n"
     ]
    }
   ],
   "source": [
    "num=int(input('enter a number : '))\n",
    "fa=1\n",
    "for i in range(1,num+1):\n",
    "    fa=fa*i\n",
    "print ('factorial of ', num, ' is ', fa)\n"
   ]
  },
  {
   "cell_type": "code",
   "execution_count": null,
   "metadata": {},
   "outputs": [],
   "source": [
    "12 X 1 = 12\n",
    "12 X 2 = 24"
   ]
  },
  {
   "cell_type": "code",
   "execution_count": 29,
   "metadata": {},
   "outputs": [
    {
     "name": "stdout",
     "output_type": "stream",
     "text": [
      "enter a number : 5\n",
      "factorial of  5  is  120\n"
     ]
    }
   ],
   "source": [
    "num=int(input('enter a number : '))\n",
    "a=1\n",
    "fa=1\n",
    "while a<=num:\n",
    "    fa=fa*a\n",
    "    a=a+1\n",
    "print ('factorial of ', num, ' is ', fa)\n"
   ]
  },
  {
   "cell_type": "code",
   "execution_count": 33,
   "metadata": {},
   "outputs": [
    {
     "name": "stdout",
     "output_type": "stream",
     "text": [
      "Enter number of table : 5\n",
      "5 X 1 = 5\n",
      "5 X 2 = 10\n",
      "5 X 3 = 15\n",
      "5 X 4 = 20\n",
      "5 X 5 = 25\n",
      "5 X 6 = 30\n",
      "5 X 7 = 35\n",
      "5 X 8 = 40\n",
      "5 X 9 = 45\n",
      "5 X 10 = 50\n"
     ]
    }
   ],
   "source": [
    "nu=int(input('Enter number of table : '))\n",
    "\n",
    "a=1\n",
    "for i in range(1,11):\n",
    "    s=nu*a\n",
    "    print(nu,'X', a, '=', s )\n",
    "    a=a+1\n"
   ]
  },
  {
   "cell_type": "code",
   "execution_count": 35,
   "metadata": {},
   "outputs": [
    {
     "name": "stdout",
     "output_type": "stream",
     "text": [
      "*\n",
      "**\n",
      "***\n",
      "****\n"
     ]
    }
   ],
   "source": [
    "i = 1\n",
    "\n",
    "while i<=4:\n",
    "    print(\"*\"*i)\n",
    "    i += 1"
   ]
  },
  {
   "cell_type": "code",
   "execution_count": 36,
   "metadata": {},
   "outputs": [
    {
     "name": "stdout",
     "output_type": "stream",
     "text": [
      "*\n",
      "**\n",
      "***\n",
      "****\n"
     ]
    }
   ],
   "source": [
    "for i in range(1,5):\n",
    "    print(\"*\"*i)"
   ]
  },
  {
   "cell_type": "code",
   "execution_count": 40,
   "metadata": {},
   "outputs": [
    {
     "name": "stdout",
     "output_type": "stream",
     "text": [
      "  *  \n",
      " *** \n",
      "*****\n",
      " *** \n",
      "  *  \n"
     ]
    }
   ],
   "source": [
    "i = 1\n",
    "j = 2\n",
    "while i >= 1:\n",
    "    a = \" \"*j + \"*\"*i + \" \"*j\n",
    "    print(a)\n",
    "    i = i + 2\n",
    "    j = j - 1\n",
    "    if i > 5:\n",
    "        break\n",
    "        \n",
    "i = 3 \n",
    "j = 1\n",
    "\n",
    "while i >= 1:\n",
    "    a = \" \"*j + \"*\"*i + \" \"*j \n",
    "    print(a)\n",
    "    i = i - 2\n",
    "    j = j + 1"
   ]
  },
  {
   "cell_type": "code",
   "execution_count": 6,
   "metadata": {},
   "outputs": [
    {
     "name": "stdout",
     "output_type": "stream",
     "text": [
      "Counter({'a': 400, 'b': 400, 'd': 400, 'c': 300})\n"
     ]
    }
   ],
   "source": [
    "from collections import Counter\n",
    "d1 = {'a': 100, 'b': 200, 'c':300}\n",
    "d2 = {'a': 300, 'b': 200, 'd':400}\n",
    "d=Counter(d1)+Counter(d2)\n",
    "print(d)"
   ]
  },
  {
   "cell_type": "code",
   "execution_count": null,
   "metadata": {},
   "outputs": [],
   "source": []
  }
 ],
 "metadata": {
  "kernelspec": {
   "display_name": "Python 3",
   "language": "python",
   "name": "python3"
  },
  "language_info": {
   "codemirror_mode": {
    "name": "ipython",
    "version": 3
   },
   "file_extension": ".py",
   "mimetype": "text/x-python",
   "name": "python",
   "nbconvert_exporter": "python",
   "pygments_lexer": "ipython3",
   "version": "3.7.4"
  }
 },
 "nbformat": 4,
 "nbformat_minor": 4
}
