{
 "cells": [
  {
   "cell_type": "markdown",
   "metadata": {
    "collapsed": true
   },
   "source": [
    "# Statements Assessment Test\n",
    "Let's test your knowledge!"
   ]
  },
  {
   "cell_type": "markdown",
   "metadata": {},
   "source": [
    "_____\n",
    "**Use <code>for</code>, .split(), and <code>if</code> to create a Statement that will print out words that start with 's':**"
   ]
  },
  {
   "cell_type": "code",
   "execution_count": 3,
   "metadata": {},
   "outputs": [],
   "source": [
    "st = 'Print only the words that start with s in this sentence Said Ronney'"
   ]
  },
  {
   "cell_type": "code",
   "execution_count": 23,
   "metadata": {},
   "outputs": [
    {
     "name": "stdout",
     "output_type": "stream",
     "text": [
      "start\n",
      "s\n",
      "sentence\n"
     ]
    }
   ],
   "source": [
    "new_list=st.split()\n",
    "for i in range(len(new_list)):\n",
    "    if ls[i].startswith('s'):\n",
    "        print(new_list[i])\n",
    "   "
   ]
  },
  {
   "cell_type": "markdown",
   "metadata": {},
   "source": [
    "______\n",
    "**Use range() to print all the even numbers from 0 to 10.**"
   ]
  },
  {
   "cell_type": "code",
   "execution_count": 11,
   "metadata": {},
   "outputs": [
    {
     "name": "stdout",
     "output_type": "stream",
     "text": [
      "0\n",
      "2\n",
      "4\n",
      "6\n",
      "8\n"
     ]
    }
   ],
   "source": [
    "for i in range(0,10):\n",
    "    if i%2==0:\n",
    "        \n",
    "        print(i)"
   ]
  },
  {
   "cell_type": "markdown",
   "metadata": {},
   "source": [
    "\n",
    "Use a List Comprehension to create a list of all numbers between 1 and 50 that are divisible by 3"
   ]
  },
  {
   "cell_type": "code",
   "execution_count": 15,
   "metadata": {},
   "outputs": [
    {
     "data": {
      "text/plain": [
       "[3, 6, 9, 12, 15, 18, 21, 24, 27, 30, 33, 36, 39, 42, 45, 48]"
      ]
     },
     "execution_count": 15,
     "metadata": {},
     "output_type": "execute_result"
    }
   ],
   "source": [
    "a= [x for  x in range(1,50) if x%3==0]\n",
    "a"
   ]
  },
  {
   "cell_type": "markdown",
   "metadata": {},
   "source": [
    "_____\n",
    "**Go through the string below and if the length of a word is even print \"even!\"**"
   ]
  },
  {
   "cell_type": "code",
   "execution_count": 3,
   "metadata": {},
   "outputs": [],
   "source": [
    "st = 'Print every word in this sentence that has an even number of letters'"
   ]
  },
  {
   "cell_type": "code",
   "execution_count": 7,
   "metadata": {},
   "outputs": [
    {
     "name": "stdout",
     "output_type": "stream",
     "text": [
      "even\n"
     ]
    }
   ],
   "source": [
    "if len(st)%2==0:\n",
    "    print(\"even\")"
   ]
  },
  {
   "cell_type": "markdown",
   "metadata": {},
   "source": [
    "____\n",
    "**Write a program that prints the integers from 1 to 100. But for multiples of three print \"Fizz\" instead of the number, and for the multiples of five print \"Buzz\". For numbers which are multiples of both three and five print \"FizzBuzz\".**"
   ]
  },
  {
   "cell_type": "code",
   "execution_count": 11,
   "metadata": {},
   "outputs": [
    {
     "name": "stdout",
     "output_type": "stream",
     "text": [
      "invalid entry\n",
      "invalid entry\n",
      "Fizz\n",
      "invalid entry\n",
      "Buzz\n",
      "Fizz\n",
      "invalid entry\n",
      "invalid entry\n",
      "Fizz\n",
      "Buzz\n",
      "invalid entry\n",
      "Fizz\n",
      "invalid entry\n",
      "invalid entry\n",
      "Fizz\n",
      "invalid entry\n",
      "invalid entry\n",
      "Fizz\n",
      "invalid entry\n",
      "Buzz\n",
      "Fizz\n",
      "invalid entry\n",
      "invalid entry\n",
      "Fizz\n",
      "Buzz\n",
      "invalid entry\n",
      "Fizz\n",
      "invalid entry\n",
      "invalid entry\n",
      "Fizz\n",
      "invalid entry\n",
      "invalid entry\n",
      "Fizz\n",
      "invalid entry\n",
      "Buzz\n",
      "Fizz\n",
      "invalid entry\n",
      "invalid entry\n",
      "Fizz\n",
      "Buzz\n",
      "invalid entry\n",
      "Fizz\n",
      "invalid entry\n",
      "invalid entry\n",
      "Fizz\n",
      "invalid entry\n",
      "invalid entry\n",
      "Fizz\n",
      "invalid entry\n",
      "Buzz\n",
      "Fizz\n",
      "invalid entry\n",
      "invalid entry\n",
      "Fizz\n",
      "Buzz\n",
      "invalid entry\n",
      "Fizz\n",
      "invalid entry\n",
      "invalid entry\n",
      "Fizz\n",
      "invalid entry\n",
      "invalid entry\n",
      "Fizz\n",
      "invalid entry\n",
      "Buzz\n",
      "Fizz\n",
      "invalid entry\n",
      "invalid entry\n",
      "Fizz\n",
      "Buzz\n",
      "invalid entry\n",
      "Fizz\n",
      "invalid entry\n",
      "invalid entry\n",
      "Fizz\n",
      "invalid entry\n",
      "invalid entry\n",
      "Fizz\n",
      "invalid entry\n",
      "Buzz\n",
      "Fizz\n",
      "invalid entry\n",
      "invalid entry\n",
      "Fizz\n",
      "Buzz\n",
      "invalid entry\n",
      "Fizz\n",
      "invalid entry\n",
      "invalid entry\n",
      "Fizz\n",
      "invalid entry\n",
      "invalid entry\n",
      "Fizz\n",
      "invalid entry\n",
      "Buzz\n",
      "Fizz\n",
      "invalid entry\n",
      "invalid entry\n",
      "Fizz\n"
     ]
    }
   ],
   "source": [
    "for i in range(1,100):\n",
    "    if i%3==0:\n",
    "        print(\"Fizz\")\n",
    "    elif i%5==0:\n",
    "        print(\"Buzz\")\n",
    "    elif i%3==0 and i%5==0:\n",
    "        print(\"FizzBuzz\")\n",
    "    else:\n",
    "        print(\"invalid entry\")"
   ]
  },
  {
   "cell_type": "markdown",
   "metadata": {},
   "source": [
    "____\n",
    "**Use List Comprehension to create a list of the first letters of every word in the string below:**"
   ]
  },
  {
   "cell_type": "code",
   "execution_count": null,
   "metadata": {},
   "outputs": [],
   "source": [
    "st = 'Create a list of the first letters of every word in this string'"
   ]
  },
  {
   "cell_type": "code",
   "execution_count": 34,
   "metadata": {},
   "outputs": [
    {
     "data": {
      "text/plain": [
       "[]"
      ]
     },
     "execution_count": 34,
     "metadata": {},
     "output_type": "execute_result"
    }
   ],
   "source": [
    "new_list=st.split()\n",
    "new_list\n",
    "a= [x for x in range(len(new_list)) if new_list[i].startswith('s')]\n",
    "a"
   ]
  },
  {
   "cell_type": "markdown",
   "metadata": {},
   "source": [
    "### Great Job!"
   ]
  }
 ],
 "metadata": {
  "kernelspec": {
   "display_name": "Python 3",
   "language": "python",
   "name": "python3"
  },
  "language_info": {
   "codemirror_mode": {
    "name": "ipython",
    "version": 3
   },
   "file_extension": ".py",
   "mimetype": "text/x-python",
   "name": "python",
   "nbconvert_exporter": "python",
   "pygments_lexer": "ipython3",
   "version": "3.7.4"
  }
 },
 "nbformat": 4,
 "nbformat_minor": 1
}
